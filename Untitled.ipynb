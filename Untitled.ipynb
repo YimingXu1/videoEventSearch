{
 "cells": [
  {
   "cell_type": "code",
   "execution_count": 85,
   "metadata": {},
   "outputs": [],
   "source": [
    "from whoosh.index import create_in\n",
    "from whoosh.fields import *\n",
    "from whoosh import qparser\n",
    "import whoosh.index as index\n",
    "\n",
    "def createIndexFromCaptions(listOfCaptions):\n",
    "    dirName = \"indexdir\"\n",
    "    schema = Schema(title=TEXT(stored=True), content=TEXT)\n",
    "    # create index\n",
    "    ix = create_in(dirName, schema)\n",
    "    writer = ix.writer()\n",
    "    for caption in listOfCaptions:\n",
    "        writer.add_document(title=caption[0], content=caption[1])\n",
    "    writer.commit()\n",
    "    return dirName\n",
    "\n",
    "def searchIndexForQuery(dirName,queryTerms):\n",
    "    schema = Schema(title=TEXT(stored=True), content=TEXT)\n",
    "    ix = index.open_dir(dirName)\n",
    "    # search content for query term\n",
    "    with ix.searcher() as searcher:\n",
    "        parser = qparser.QueryParser(\"content\", schema=ix.schema,group=qparser.OrGroup)\n",
    "        query = parser.parse(queryTerms)\n",
    "        results = searcher.search(query)\n",
    "        if len(results) > 0:\n",
    "            resultList = []\n",
    "            for result in results:\n",
    "                resultList.append(result[\"title\"])\n",
    "            return resultList\n",
    "        else:\n",
    "            return [\"middleFinger\"]"
   ]
  },
  {
   "cell_type": "code",
   "execution_count": 86,
   "metadata": {},
   "outputs": [],
   "source": [
    "l = [\n",
    "    [\"vid1t1\",\"Hello World\"],\n",
    "    [\"vid1t2\",\"Hellow Whirly dirly\"],\n",
    "    [\"vid1t3\",\"Hello Pratik\"],\n",
    "    [\"vid2t1\",\"Hello Sharmaji\"],\n",
    "    [\"vid4t1\",\"Hello Sanket\"],\n",
    "    [\"vid3t5\",\"pickle rick\"],\n",
    "    [\"vid9t1\",\"gunshot\"],\n",
    "    [\"vid10t3\",\"rats ass\"]\n",
    "    ]\n",
    "dirName = createIndexFromCaptions(l)"
   ]
  },
  {
   "cell_type": "code",
   "execution_count": 88,
   "metadata": {},
   "outputs": [
    {
     "data": {
      "text/plain": [
       "['vid9t1']"
      ]
     },
     "execution_count": 88,
     "metadata": {},
     "output_type": "execute_result"
    }
   ],
   "source": [
    "searchIndexForQuery(dirName,\"gunshot\")"
   ]
  },
  {
   "cell_type": "code",
   "execution_count": null,
   "metadata": {
    "collapsed": true
   },
   "outputs": [],
   "source": []
  }
 ],
 "metadata": {
  "kernelspec": {
   "display_name": "Python [conda root]",
   "language": "python",
   "name": "conda-root-py"
  },
  "language_info": {
   "codemirror_mode": {
    "name": "ipython",
    "version": 3
   },
   "file_extension": ".py",
   "mimetype": "text/x-python",
   "name": "python",
   "nbconvert_exporter": "python",
   "pygments_lexer": "ipython3",
   "version": "3.6.2"
  }
 },
 "nbformat": 4,
 "nbformat_minor": 2
}
